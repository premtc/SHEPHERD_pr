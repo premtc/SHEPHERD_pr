{
 "cells": [
  {
   "cell_type": "code",
   "execution_count": 1,
   "metadata": {},
   "outputs": [],
   "source": [
    "import pandas as pd"
   ]
  },
  {
   "cell_type": "code",
   "execution_count": 2,
   "metadata": {},
   "outputs": [],
   "source": [
    "def load_kg_node_map(filepath):\n",
    "    return pd.read_csv(filepath, sep='\\t')\n",
    "\n",
    "def load_kg_edgelist(filepath):\n",
    "    return pd.read_csv(filepath, sep='\\t')\n",
    "\n",
    "def map_phenotypes_to_genes(phenotypes, kg_node_map, kg_edgelist):\n",
    "    phenotype_gene_mapping = {}\n",
    "    \n",
    "    for phenotype in phenotypes:\n",
    "        # Find the node_idx for the phenotype\n",
    "        phenotype_node = kg_node_map[kg_node_map['node_id'] == phenotype]\n",
    "        \n",
    "        if not phenotype_node.empty:\n",
    "            phenotype_idx = phenotype_node['node_idx'].values[0]\n",
    "            \n",
    "            # Find connected genes in the edgelist\n",
    "            connected_genes = kg_edgelist[\n",
    "                ((kg_edgelist['x_idx'] == phenotype_idx) | (kg_edgelist['y_idx'] == phenotype_idx)) &\n",
    "                (kg_edgelist['full_relation'].str.contains('gene/protein'))\n",
    "            ]\n",
    "            \n",
    "            # Get the gene indices\n",
    "            gene_indices = connected_genes['x_idx'].tolist() + connected_genes['y_idx'].tolist()\n",
    "            gene_indices = [idx for idx in gene_indices if idx != phenotype_idx]\n",
    "            \n",
    "            # Map gene indices to gene names\n",
    "            gene_names = kg_node_map[kg_node_map['node_idx'].isin(gene_indices)]['node_name'].tolist()\n",
    "            \n",
    "            phenotype_gene_mapping[phenotype] = gene_names\n",
    "        else:\n",
    "            phenotype_gene_mapping[phenotype] = []\n",
    "    \n",
    "    return phenotype_gene_mapping\n"
   ]
  },
  {
   "cell_type": "code",
   "execution_count": null,
   "metadata": {},
   "outputs": [],
   "source": [
    "\n",
    "# Load the data\n",
    "kg_node_map = load_kg_node_map('./KG_node_map_test.txt')\n",
    "kg_edgelist = load_kg_edgelist('KG_edgelist.txt')\n",
    "\n",
    "# Extract positive phenotypes from the patient data\n",
    "patient_data = {\n",
    "    \"true_genes\": [\"ENSG00000173801\"],\n",
    "    \"positive_phenotypes\": [\"HP:0000982\", \"HP:0004751\", \"HP:0010719\", \"HP:0000113\", \"HP:0001324\", \"HP:0001640\", \"HP:0003202\", \"HP:0000708\", \"HP:0011675\", \"HP:0001948\", \"HP:0000956\", \"HP:0001645\", \"HP:0200114\", \"HP:0005881\", \"HP:0025230\", \"HP:0003010\", \"HP:0000540\"],\n",
    "    \"all_candidate_genes\": [\"ENSG00000185339\", \"ENSG00000157423\", \"ENSG00000130638\", \"ENSG00000073756\", \"ENSG00000082701\", \"ENSG00000168000\", \"ENSG00000173801\", \"ENSG00000136732\", \"ENSG00000147655\", \"ENSG00000162426\", \"ENSG00000115361\", \"ENSG00000090932\", \"ENSG00000117425\", \"ENSG00000133107\", \"ENSG00000116679\", \"ENSG00000122641\", \"ENSG00000070614\", \"ENSG00000055118\", \"ENSG00000166685\", \"ENSG00000115760\", \"ENSG00000166603\"],\n",
    "    \"true_diseases\": [\"34217\"]\n",
    "}\n",
    "\n",
    "positive_phenotypes = patient_data[\"positive_phenotypes\"]\n",
    "\n",
    "# Map phenotypes to genes\n",
    "phenotype_gene_mapping = map_phenotypes_to_genes(positive_phenotypes, kg_node_map, kg_edgelist)\n",
    "\n",
    "# Print the results\n",
    "for phenotype, genes in phenotype_gene_mapping.items():\n",
    "    print(f\"Phenotype: {phenotype}\")\n",
    "    print(f\"Connected Genes: {', '.join(genes) if genes else 'No connected genes found'}\")\n",
    "    print()"
   ]
  }
 ],
 "metadata": {
  "kernelspec": {
   "display_name": "n_myenv",
   "language": "python",
   "name": "python3"
  },
  "language_info": {
   "codemirror_mode": {
    "name": "ipython",
    "version": 3
   },
   "file_extension": ".py",
   "mimetype": "text/x-python",
   "name": "python",
   "nbconvert_exporter": "python",
   "pygments_lexer": "ipython3",
   "version": "3.9.19"
  }
 },
 "nbformat": 4,
 "nbformat_minor": 2
}
