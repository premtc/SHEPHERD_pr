{
 "cells": [
  {
   "cell_type": "code",
   "execution_count": 3,
   "metadata": {},
   "outputs": [],
   "source": [
    "import pickle\n",
    "import os"
   ]
  },
  {
   "cell_type": "code",
   "execution_count": 4,
   "metadata": {},
   "outputs": [],
   "source": [
    "\n",
    "\n",
    "def print_pickle_contents(file_path):\n",
    "    \"\"\"\n",
    "    Load a pickle file and print its keys, values, and items (key-value pairs).\n",
    "    \n",
    "    Parameters:\n",
    "    file_path (str): The full path to the pickle file.\n",
    "    \"\"\"\n",
    "    with open(file_path, 'rb') as file:\n",
    "        data = pickle.load(file)\n",
    "        \n",
    "        if isinstance(data, dict):\n",
    "            print(f\"File: {file_path}\")\n",
    "            \n",
    "            # Print all keys\n",
    "            print(\"Keys:\")\n",
    "            for key in data.keys():\n",
    "                print(f\"  {key}\")\n",
    "            \n",
    "            # Print all values\n",
    "            print(\"\\nValues:\")\n",
    "            for value in data.values():\n",
    "                print(f\"  {value}\")\n",
    "            \n",
    "            # Print all items\n",
    "            print(\"\\nItems (Key: Value):\")\n",
    "            for key, value in data.items():\n",
    "                print(f\"  {key}: {value}\")\n",
    "            \n",
    "            print(\"\\n\" + \"=\"*50 + \"\\n\")\n",
    "        else:\n",
    "            print(f\"File {file_path} does not contain a dictionary.\")"
   ]
  },
  {
   "cell_type": "code",
   "execution_count": 5,
   "metadata": {},
   "outputs": [
    {
     "ename": "NameError",
     "evalue": "name 'directory' is not defined",
     "output_type": "error",
     "traceback": [
      "\u001b[0;31m---------------------------------------------------------------------------\u001b[0m",
      "\u001b[0;31mNameError\u001b[0m                                 Traceback (most recent call last)",
      "Cell \u001b[0;32mIn[5], line 2\u001b[0m\n\u001b[1;32m      1\u001b[0m \u001b[38;5;66;03m# Get a list of all .pkl files in the directory\u001b[39;00m\n\u001b[0;32m----> 2\u001b[0m pkl_files \u001b[38;5;241m=\u001b[39m [f \u001b[38;5;28;01mfor\u001b[39;00m f \u001b[38;5;129;01min\u001b[39;00m os\u001b[38;5;241m.\u001b[39mlistdir(\u001b[43mdirectory\u001b[49m) \u001b[38;5;28;01mif\u001b[39;00m f\u001b[38;5;241m.\u001b[39mendswith(\u001b[38;5;124m'\u001b[39m\u001b[38;5;124m.pkl\u001b[39m\u001b[38;5;124m'\u001b[39m)]\n\u001b[1;32m      4\u001b[0m \u001b[38;5;66;03m# Call the function for each .pkl file and print a title for each one\u001b[39;00m\n\u001b[1;32m      5\u001b[0m \u001b[38;5;28;01mfor\u001b[39;00m pkl_file \u001b[38;5;129;01min\u001b[39;00m pkl_files:\n",
      "\u001b[0;31mNameError\u001b[0m: name 'directory' is not defined"
     ]
    }
   ],
   "source": [
    "# Get a list of all .pkl files in the directory\n",
    "pkl_files = [f for f in os.listdir(directory) if f.endswith('.pkl')]\n",
    "\n",
    "# Call the function for each .pkl file and print a title for each one\n",
    "for pkl_file in pkl_files:\n",
    "    file_path = os.path.join(directory, pkl_file)\n",
    "    print(f\"===== Contents of {pkl_file} =====\")\n",
    "    print_pickle_contents(file_path)"
   ]
  },
  {
   "cell_type": "code",
   "execution_count": null,
   "metadata": {},
   "outputs": [],
   "source": []
  }
 ],
 "metadata": {
  "kernelspec": {
   "display_name": "n_myenv",
   "language": "python",
   "name": "python3"
  },
  "language_info": {
   "codemirror_mode": {
    "name": "ipython",
    "version": 3
   },
   "file_extension": ".py",
   "mimetype": "text/x-python",
   "name": "python",
   "nbconvert_exporter": "python",
   "pygments_lexer": "ipython3",
   "version": "3.9.19"
  }
 },
 "nbformat": 4,
 "nbformat_minor": 2
}
