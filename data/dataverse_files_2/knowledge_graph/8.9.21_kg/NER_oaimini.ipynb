{
 "cells": [
  {
   "cell_type": "code",
   "execution_count": 4,
   "metadata": {},
   "outputs": [],
   "source": [
    "from openai import OpenAI\n",
    "from langchain.prompts import PromptTemplate\n",
    "from langchain.output_parsers import ResponseSchema, StructuredOutputParser\n",
    "import json\n",
    "import re\n",
    "\n",
    "openai_api_key = \"xxx\"  "
   ]
  },
  {
   "cell_type": "code",
   "execution_count": 5,
   "metadata": {},
   "outputs": [],
   "source": [
    "class GenePhenotypeExtractor:\n",
    "    def __init__(self, openai_api_key):\n",
    "        # Initialize OpenAI client\n",
    "        self.client = OpenAI(api_key=openai_api_key)\n",
    "        \n",
    "        # Define response schemas for the required fields\n",
    "        self.phenotypes_field = ResponseSchema(\n",
    "            name=\"phenotypes\",\n",
    "            description=\"Extract the list of phenotypes present in the patient from the request. Format the output as a JSON list.\"\n",
    "        )\n",
    "        \n",
    "        self.genes_field = ResponseSchema(\n",
    "            name=\"genes\",\n",
    "            description=\"Extract the list of genes mentioned in the patient request. Format the output as a JSON list.\"\n",
    "        )\n",
    "        \n",
    "        # Combine the schemas into a structured output parser\n",
    "        self.request_metadata_output_schema_parser = StructuredOutputParser.from_response_schemas(\n",
    "            [\n",
    "                self.phenotypes_field,\n",
    "                self.genes_field\n",
    "            ]\n",
    "        )\n",
    "        self.request_metadata_output_schema = self.request_metadata_output_schema_parser.get_format_instructions()\n",
    "        \n",
    "        # Define the prompt template\n",
    "        self.request_metadata_prompt_template_str = \"\"\"\n",
    "        Given the following patient request, extract the following metadata according to the format instructions below.\n",
    "        << FORMATTING >>\n",
    "        {format_instructions}\n",
    "        << INPUT >>\n",
    "        {user_request}\n",
    "        << OUTPUT (remember to include the ```json)>>\"\"\"\n",
    "        self.request_metadata_prompt_template = PromptTemplate.from_template(\n",
    "            template=self.request_metadata_prompt_template_str)\n",
    "\n",
    "    def extract_metadata(self, user_request):\n",
    "        # Generate the prompt\n",
    "        prompt = self.request_metadata_prompt_template.format(\n",
    "            format_instructions=self.request_metadata_output_schema,\n",
    "            user_request=user_request\n",
    "        )\n",
    "        \n",
    "        # Send the request to OpenAI and get the response\n",
    "        response = self.client.chat.completions.create(\n",
    "            model=\"gpt-4-turbo-preview\",\n",
    "            messages=[\n",
    "                {\"role\": \"system\", \"content\": \"You are a helpful assistant that extracts gene and phenotype information from patient requests.\"},\n",
    "                {\"role\": \"user\", \"content\": prompt}\n",
    "            ],\n",
    "            temperature=0,\n",
    "            max_tokens=150\n",
    "        )\n",
    "        \n",
    "        # Extract the content from the response\n",
    "        content = response.choices[0].message.content\n",
    "\n",
    "        # Extract JSON from the content\n",
    "        json_match = re.search(r'```json\\n(.*?)\\n```', content, re.DOTALL)\n",
    "        if json_match:\n",
    "            json_str = json_match.group(1)\n",
    "            try:\n",
    "                data = json.loads(json_str)\n",
    "                phenotypes = data.get('phenotypes', [])\n",
    "                genes = data.get('genes', [])\n",
    "                return phenotypes, genes\n",
    "            except json.JSONDecodeError:\n",
    "                print(\"Error decoding JSON from the response.\")\n",
    "                return [], []\n",
    "        else:\n",
    "            print(\"No JSON found in the response.\")\n",
    "            return [], []\n",
    "\n"
   ]
  },
  {
   "cell_type": "code",
   "execution_count": 6,
   "metadata": {},
   "outputs": [],
   "source": [
    "extractor = GenePhenotypeExtractor(openai_api_key=openai_api_key)"
   ]
  },
  {
   "cell_type": "code",
   "execution_count": 7,
   "metadata": {},
   "outputs": [],
   "source": [
    "user_request = \"Given a patient with these phenotypes: HP:0001249, HP:0001254, HP:0000712 and these genes: ENSG00000146085, what could be the disease?\""
   ]
  },
  {
   "cell_type": "code",
   "execution_count": 8,
   "metadata": {},
   "outputs": [
    {
     "name": "stdout",
     "output_type": "stream",
     "text": [
      "Phenotypes: ['HP:0001249', 'HP:0001254', 'HP:0000712']\n",
      "Genes: ['ENSG00000146085']\n"
     ]
    }
   ],
   "source": [
    "# Extract metadata\n",
    "phenotypes, genes = extractor.extract_metadata(user_request)\n",
    "print(\"Phenotypes:\", phenotypes)\n",
    "print(\"Genes:\", genes)"
   ]
  },
  {
   "cell_type": "code",
   "execution_count": null,
   "metadata": {},
   "outputs": [],
   "source": []
  }
 ],
 "metadata": {
  "kernelspec": {
   "display_name": "n_myenv",
   "language": "python",
   "name": "python3"
  },
  "language_info": {
   "codemirror_mode": {
    "name": "ipython",
    "version": 3
   },
   "file_extension": ".py",
   "mimetype": "text/x-python",
   "name": "python",
   "nbconvert_exporter": "python",
   "pygments_lexer": "ipython3",
   "version": "3.9.19"
  }
 },
 "nbformat": 4,
 "nbformat_minor": 2
}
