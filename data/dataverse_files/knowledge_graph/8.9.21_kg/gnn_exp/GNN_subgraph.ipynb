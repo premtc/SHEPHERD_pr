{
 "cells": [
  {
   "cell_type": "code",
   "execution_count": 3,
   "metadata": {},
   "outputs": [],
   "source": [
    "import pandas as pd\n",
    "import torch\n",
    "import torch.nn as nn\n",
    "from torch_geometric.nn import GATConv, Linear \n",
    "from torch_geometric.data import HeteroData\n",
    "import json \n",
    "import random\n",
    "from sklearn.model_selection import train_test_split\n",
    "import os"
   ]
  },
  {
   "cell_type": "code",
   "execution_count": 4,
   "metadata": {},
   "outputs": [
    {
     "name": "stdout",
     "output_type": "stream",
     "text": [
      "cpu\n"
     ]
    }
   ],
   "source": [
    "# device set to cuda otherwise cpu\n",
    "device = torch.device('cuda' if torch.cuda.is_available() else 'cpu')\n",
    "print(device)"
   ]
  },
  {
   "cell_type": "code",
   "execution_count": 44,
   "metadata": {},
   "outputs": [],
   "source": [
    "def activate_phenotypes(x, active_phenotype_indices, activation_value=1.0):\n",
    "    x_activated = x.clone()\n",
    "    x_activated[active_phenotype_indices] += activation_value\n",
    "    return x_activated"
   ]
  },
  {
   "cell_type": "code",
   "execution_count": 45,
   "metadata": {},
   "outputs": [],
   "source": [
    "def retrieve_subgraph(node_scores, num_nodes=2500):\n",
    "    # Select top k nodes based on their scores\n",
    "    _, top_indices = torch.topk(node_scores.squeeze(), num_nodes)\n",
    "    return top_indices"
   ]
  },
  {
   "cell_type": "code",
   "execution_count": 46,
   "metadata": {},
   "outputs": [],
   "source": [
    "def process_patient(model, graph, patient_data):\n",
    "    # Combine all node features and edge indices\n",
    "    x = torch.cat([graph.x_dict[node_type] for node_type in graph.node_types], dim=0)\n",
    "    edge_index = torch.cat([graph.edge_index_dict[edge_type] for edge_type in graph.edge_types], dim=1)\n",
    "    \n",
    "    # Activate patient-specific phenotypes\n",
    "    active_phenotypes = torch.tensor(patient_data['positive_phenotypes']['indices'], dtype=torch.long)\n",
    "    x_activated = activate_phenotypes(x, active_phenotypes)\n",
    "    \n",
    "    # Get node scores from the model\n",
    "    node_scores = model(x_activated, edge_index)\n",
    "    \n",
    "    # Retrieve subgraph\n",
    "    subgraph_nodes = retrieve_subgraph(node_scores)\n",
    "    \n",
    "    return subgraph_nodes, node_scores"
   ]
  },
  {
   "cell_type": "code",
   "execution_count": 43,
   "metadata": {},
   "outputs": [],
   "source": [
    "def check_activated_phenotypes(x, x_activated, active_phenotype_indices):\n",
    "    print(f\"Original x shape: {x.shape}\")\n",
    "    print(f\"Activated x shape: {x_activated.shape}\")\n",
    "    print(f\"Number of active phenotypes: {len(active_phenotype_indices)}\")\n",
    "\n",
    "    diff = x_activated - x\n",
    "    \n",
    "    diff_indices = torch.nonzero(torch.any(diff != 0, dim=1)).squeeze()\n",
    "    diff_indices = sorted(diff_indices.tolist())\n",
    "    active_phenotype_indices = sorted(active_phenotype_indices.tolist())\n",
    "    \n",
    "    print(f\"Number of different nodes: {len(diff_indices)}\")\n",
    "    print(f\"Indices of different nodes: {diff_indices}\")\n",
    "    print(f\"Active phenotype indices: {active_phenotype_indices}\")\n",
    "    \n",
    "    if active_phenotype_indices == diff_indices:\n",
    "        print(\"\\nSUCCESSFUL\\nActive phenotype indices are equal to the diff indices\")\n",
    "        return True\n",
    "    else:\n",
    "        print(\"\\nFAILED\\nActive phenotype indices are not equal to the diff indices\")\n",
    "        extra_activated = set(diff_indices) - set(active_phenotype_indices)\n",
    "        not_activated = set(active_phenotype_indices) - set(diff_indices)\n",
    "        if extra_activated:\n",
    "            print(f\"Extra nodes activated: {extra_activated}\")\n",
    "        if not_activated:\n",
    "            print(f\"Nodes not activated: {not_activated}\")\n",
    "        return False"
   ]
  },
  {
   "cell_type": "code",
   "execution_count": 5,
   "metadata": {},
   "outputs": [
    {
     "name": "stdout",
     "output_type": "stream",
     "text": [
      "Graph loaded from 'Shepherd_KG_with_pretrained_embeddings3.pt'.\n",
      "HeteroData(\n",
      "  gene/protein={\n",
      "    x=[21610, 2048],\n",
      "    node_ids=[21610],\n",
      "    node_type='gene/protein',\n",
      "    node_name=[21610],\n",
      "  },\n",
      "  effect/phenotype={\n",
      "    x=[15874, 2048],\n",
      "    node_ids=[15874],\n",
      "    node_type='effect/phenotype',\n",
      "    node_name=[15874],\n",
      "  },\n",
      "  disease={\n",
      "    x=[21233, 2048],\n",
      "    node_ids=[21233],\n",
      "    node_type='disease',\n",
      "    node_name=[21233],\n",
      "  },\n",
      "  biological_process={\n",
      "    x=[28642, 2048],\n",
      "    node_ids=[28642],\n",
      "    node_type='biological_process',\n",
      "    node_name=[28642],\n",
      "  },\n",
      "  molecular_function={\n",
      "    x=[11169, 2048],\n",
      "    node_ids=[11169],\n",
      "    node_type='molecular_function',\n",
      "    node_name=[11169],\n",
      "  },\n",
      "  cellular_component={\n",
      "    x=[4176, 2048],\n",
      "    node_ids=[4176],\n",
      "    node_type='cellular_component',\n",
      "    node_name=[4176],\n",
      "  },\n",
      "  pathway={\n",
      "    x=[2516, 2048],\n",
      "    node_ids=[2516],\n",
      "    node_type='pathway',\n",
      "    node_name=[2516],\n",
      "  },\n",
      "  (gene/protein, protein_protein, gene/protein)={\n",
      "    edge_index=[2, 321075],\n",
      "    edge_attr=[321075],\n",
      "  },\n",
      "  (effect/phenotype, phenotype_protein, gene/protein)={\n",
      "    edge_index=[2, 10518],\n",
      "    edge_attr=[10518],\n",
      "  },\n",
      "  (effect/phenotype, phenotype_phenotype, effect/phenotype)={\n",
      "    edge_index=[2, 21925],\n",
      "    edge_attr=[21925],\n",
      "  },\n",
      "  (disease, disease_phenotype_negative, effect/phenotype)={\n",
      "    edge_index=[2, 1483],\n",
      "    edge_attr=[1483],\n",
      "  },\n",
      "  (disease, disease_phenotype_positive, effect/phenotype)={\n",
      "    edge_index=[2, 204779],\n",
      "    edge_attr=[204779],\n",
      "  },\n",
      "  (disease, disease_protein, gene/protein)={\n",
      "    edge_index=[2, 86299],\n",
      "    edge_attr=[86299],\n",
      "  },\n",
      "  (disease, disease_disease, disease)={\n",
      "    edge_index=[2, 35167],\n",
      "    edge_attr=[35167],\n",
      "  },\n",
      "  (biological_process, bioprocess_bioprocess, biological_process)={\n",
      "    edge_index=[2, 52886],\n",
      "    edge_attr=[52886],\n",
      "  },\n",
      "  (molecular_function, molfunc_molfunc, molecular_function)={\n",
      "    edge_index=[2, 13574],\n",
      "    edge_attr=[13574],\n",
      "  },\n",
      "  (cellular_component, cellcomp_cellcomp, cellular_component)={\n",
      "    edge_index=[2, 4845],\n",
      "    edge_attr=[4845],\n",
      "  },\n",
      "  (gene/protein, protein_molfunc, molecular_function)={\n",
      "    edge_index=[2, 69530],\n",
      "    edge_attr=[69530],\n",
      "  },\n",
      "  (gene/protein, protein_cellcomp, cellular_component)={\n",
      "    edge_index=[2, 83402],\n",
      "    edge_attr=[83402],\n",
      "  },\n",
      "  (gene/protein, protein_bioprocess, biological_process)={\n",
      "    edge_index=[2, 144805],\n",
      "    edge_attr=[144805],\n",
      "  },\n",
      "  (pathway, pathway_pathway, pathway)={\n",
      "    edge_index=[2, 2535],\n",
      "    edge_attr=[2535],\n",
      "  },\n",
      "  (gene/protein, protein_pathway, pathway)={\n",
      "    edge_index=[2, 42646],\n",
      "    edge_attr=[42646],\n",
      "  },\n",
      "  (gene/protein, protein_protein_rev, gene/protein)={\n",
      "    edge_index=[2, 321075],\n",
      "    edge_attr=[321075],\n",
      "  },\n",
      "  (effect/phenotype, phenotype_phenotype_rev, effect/phenotype)={\n",
      "    edge_index=[2, 21925],\n",
      "    edge_attr=[21925],\n",
      "  },\n",
      "  (disease, disease_disease_rev, disease)={\n",
      "    edge_index=[2, 35167],\n",
      "    edge_attr=[35167],\n",
      "  },\n",
      "  (biological_process, bioprocess_bioprocess_rev, biological_process)={\n",
      "    edge_index=[2, 52886],\n",
      "    edge_attr=[52886],\n",
      "  },\n",
      "  (molecular_function, molfunc_molfunc_rev, molecular_function)={\n",
      "    edge_index=[2, 13574],\n",
      "    edge_attr=[13574],\n",
      "  },\n",
      "  (cellular_component, cellcomp_cellcomp_rev, cellular_component)={\n",
      "    edge_index=[2, 4845],\n",
      "    edge_attr=[4845],\n",
      "  },\n",
      "  (pathway, pathway_pathway_rev, pathway)={\n",
      "    edge_index=[2, 2535],\n",
      "    edge_attr=[2535],\n",
      "  },\n",
      "  (gene/protein, phenotype_protein, effect/phenotype)={\n",
      "    edge_index=[2, 10518],\n",
      "    edge_attr=[10518],\n",
      "  },\n",
      "  (effect/phenotype, disease_phenotype_negative, disease)={\n",
      "    edge_index=[2, 1483],\n",
      "    edge_attr=[1483],\n",
      "  },\n",
      "  (effect/phenotype, disease_phenotype_positive, disease)={\n",
      "    edge_index=[2, 204779],\n",
      "    edge_attr=[204779],\n",
      "  },\n",
      "  (gene/protein, disease_protein, disease)={\n",
      "    edge_index=[2, 86299],\n",
      "    edge_attr=[86299],\n",
      "  },\n",
      "  (molecular_function, protein_molfunc, gene/protein)={\n",
      "    edge_index=[2, 69530],\n",
      "    edge_attr=[69530],\n",
      "  },\n",
      "  (cellular_component, protein_cellcomp, gene/protein)={\n",
      "    edge_index=[2, 83402],\n",
      "    edge_attr=[83402],\n",
      "  },\n",
      "  (biological_process, protein_bioprocess, gene/protein)={\n",
      "    edge_index=[2, 144805],\n",
      "    edge_attr=[144805],\n",
      "  },\n",
      "  (pathway, protein_pathway, gene/protein)={\n",
      "    edge_index=[2, 42646],\n",
      "    edge_attr=[42646],\n",
      "  }\n",
      ")\n"
     ]
    }
   ],
   "source": [
    "data = torch.load('./KGs/Shepherd_KG_with_pretrained_embeddings3.pt')\n",
    "print(\"Graph loaded from 'Shepherd_KG_with_pretrained_embeddings3.pt'.\")\n",
    "print(data)"
   ]
  },
  {
   "cell_type": "code",
   "execution_count": 6,
   "metadata": {},
   "outputs": [],
   "source": [
    "def load_patient_data(file_path):\n",
    "    with open(file_path, 'r') as f:\n",
    "        return json.load(f)"
   ]
  },
  {
   "cell_type": "code",
   "execution_count": 7,
   "metadata": {},
   "outputs": [
    {
     "name": "stdout",
     "output_type": "stream",
     "text": [
      "2135\n"
     ]
    }
   ],
   "source": [
    "patient_files = [\n",
    "    f\"./patient_subgraph_data/labeled_patient_data/patient_{i}_result.json\" \n",
    "    for i in range(4000) \n",
    "    if os.path.exists(f\"./patient_subgraph_data/labeled_patient_data/patient_{i}_result.json\")\n",
    "]\n",
    "\n",
    "print(len(patient_files)) "
   ]
  },
  {
   "cell_type": "code",
   "execution_count": 8,
   "metadata": {},
   "outputs": [],
   "source": [
    "train_files, test_files = train_test_split(patient_files, test_size=0.2, random_state=42)\n",
    "train_files, val_files = train_test_split(train_files, test_size=0.2, random_state=42)"
   ]
  },
  {
   "cell_type": "code",
   "execution_count": 9,
   "metadata": {},
   "outputs": [
    {
     "name": "stdout",
     "output_type": "stream",
     "text": [
      "Train: 1366, Validation: 342, Test: 427\n"
     ]
    }
   ],
   "source": [
    "print(f\"Train: {len(train_files)}, Validation: {len(val_files)}, Test: {len(test_files)}\")"
   ]
  },
  {
   "cell_type": "code",
   "execution_count": 10,
   "metadata": {},
   "outputs": [],
   "source": [
    "class GuidedGNN(torch.nn.Module):\n",
    "    def __init__(self, in_channels, hidden_channels, out_channels, num_heads, num_layers):\n",
    "        super().__init__()\n",
    "\n",
    "        self.phenotype_embedding = nn.Embedding(in_channels, hidden_channels)\n",
    "        \n",
    "        \n",
    "        self.conv1 = GATConv(in_channels, hidden_channels, heads=num_heads, dropout=0.2)\n",
    "        self.head_transform_1 = Linear(hidden_channels * num_heads, hidden_channels)\n",
    "\n",
    "        self.conv2 = GATConv(hidden_channels, hidden_channels, heads=num_heads, dropout=0.2)\n",
    "        self.head_transform_2 = Linear(hidden_channels * num_heads, hidden_channels)\n",
    "\n",
    "        self.conv3 = GATConv(hidden_channels, hidden_channels, heads=num_heads, dropout=0.2)\n",
    "        self.head_transform_3 = Linear(hidden_channels * num_heads, hidden_channels)\n",
    "\n",
    "        self.linear1 = Linear(hidden_channels, out_channels)\n",
    "    \n",
    "    def forward(self, x, edge_index, active_phenotypes):\n",
    "        phenotype_emb = self.phenotype_embedding(active_phenotypes)\n",
    "        x = x + phenotype_emb\n",
    "\n",
    "        x = self.conv1(x, edge_index)\n",
    "        x = self.head_transform_1(F.elu(x))\n",
    "\n",
    "        x = self.conv2(x, edge_index)\n",
    "        x = self.head_transform_2(F.elu(x))\n",
    "\n",
    "        x = self.conv3(x, edge_index)\n",
    "        x = self.head_transform_3(F.elu(x))\n",
    "\n",
    "        return self.linear1(x) \n"
   ]
  },
  {
   "cell_type": "code",
   "execution_count": 11,
   "metadata": {},
   "outputs": [],
   "source": [
    "def count_parameters(model):\n",
    "    return sum(p.numel() for p in model.parameters() if p.requires_grad)"
   ]
  },
  {
   "cell_type": "code",
   "execution_count": 12,
   "metadata": {},
   "outputs": [
    {
     "name": "stdout",
     "output_type": "stream",
     "text": [
      "Number of paramenters: 80802304\n",
      "GuidedGNN(\n",
      "  (phenotype_embedding): Embedding(2048, 2048)\n",
      "  (conv1): GATConv(2048, 2048, heads=3)\n",
      "  (head_transform_1): Linear(6144, 2048, bias=True)\n",
      "  (conv2): GATConv(2048, 2048, heads=3)\n",
      "  (head_transform_2): Linear(6144, 2048, bias=True)\n",
      "  (conv3): GATConv(2048, 2048, heads=3)\n",
      "  (head_transform_3): Linear(6144, 2048, bias=True)\n",
      "  (linear1): Linear(2048, 512, bias=True)\n",
      ")\n"
     ]
    }
   ],
   "source": [
    "#print architecture and paramenters of the model\n",
    "model = GuidedGNN(in_channels=2048, hidden_channels=2048, out_channels=512, num_heads=3, num_layers=3)\n",
    "model = model.to(device)\n",
    "print(f\"Number of paramenters: {count_parameters(model)}\")\n",
    "print(model)"
   ]
  },
  {
   "cell_type": "code",
   "execution_count": 15,
   "metadata": {},
   "outputs": [
    {
     "name": "stdout",
     "output_type": "stream",
     "text": [
      "torch.Size([105220, 2048])\n"
     ]
    }
   ],
   "source": [
    "x_t = torch.cat([data.x_dict[node_type] for node_type in data.node_types], dim=0)\n",
    "print(x_t.shape)\n"
   ]
  },
  {
   "cell_type": "code",
   "execution_count": 16,
   "metadata": {},
   "outputs": [
    {
     "data": {
      "text/plain": [
       "{'gene/protein': tensor([[-1.5311e+00, -7.5088e-01, -6.5134e-01,  ...,  5.3504e-01,\n",
       "           1.5169e-01,  1.7642e-01],\n",
       "         [-2.7281e-01, -1.5860e-03, -1.3548e+00,  ..., -7.5338e-01,\n",
       "          -1.0343e+00,  1.8137e+00],\n",
       "         [-1.9237e+00, -2.3205e-01, -2.1809e-02,  ...,  1.0526e-01,\n",
       "          -4.0546e-01, -4.1800e-01],\n",
       "         ...,\n",
       "         [ 3.4648e-01,  1.1551e+00, -9.9104e-02,  ..., -1.3863e+00,\n",
       "          -6.2624e-03,  1.7522e+00],\n",
       "         [ 5.3702e-01, -3.1417e-01, -5.7738e-01,  ...,  3.9759e-01,\n",
       "           1.0083e+00, -8.5591e-02],\n",
       "         [ 4.6956e-01, -1.2878e+00, -1.7059e+00,  ..., -1.1443e+00,\n",
       "           3.9692e-01, -2.2757e+00]]),\n",
       " 'effect/phenotype': tensor([[ 0.9057, -0.4680, -1.3922,  ..., -0.4763,  0.4993, -2.0206],\n",
       "         [ 1.2355, -0.9945, -0.1036,  ...,  0.1707, -1.7682,  0.6473],\n",
       "         [ 2.6220,  0.8790,  1.7658,  ...,  1.4747, -0.4595, -0.2842],\n",
       "         ...,\n",
       "         [-1.0179, -0.0909, -0.2129,  ...,  0.5464,  0.2933,  1.2364],\n",
       "         [ 1.4223,  0.2552, -1.8167,  ...,  0.8868, -1.8180, -0.3969],\n",
       "         [-0.0284,  0.9170, -0.9162,  ..., -1.3329,  0.1287, -1.0622]]),\n",
       " 'disease': tensor([[-1.1679, -2.4201,  1.3293,  ..., -1.9007,  1.0768,  0.2465],\n",
       "         [-1.5114,  0.5231, -0.6489,  ..., -0.7670,  0.5530, -1.3378],\n",
       "         [-0.2304, -0.1391,  0.2734,  ...,  0.6775, -0.6021,  0.3277],\n",
       "         ...,\n",
       "         [ 0.2312, -1.1880, -0.9974,  ...,  0.0089,  0.4280,  1.0679],\n",
       "         [ 0.7108, -0.5117, -0.3124,  ...,  1.1036,  0.2556,  0.0773],\n",
       "         [-0.4061,  0.3777,  1.9247,  ...,  0.2421,  0.4544, -0.9081]]),\n",
       " 'biological_process': tensor([[ 0.9182, -1.2664, -1.1197,  ..., -0.2247, -1.1667, -0.0394],\n",
       "         [-0.6802,  0.0694,  0.5906,  ...,  2.2107, -0.0291, -1.2198],\n",
       "         [-1.2008, -0.0124, -1.0771,  ..., -0.8655, -0.1889,  1.6910],\n",
       "         ...,\n",
       "         [ 0.5888, -0.3878, -0.7255,  ..., -1.8080, -0.4340, -0.7509],\n",
       "         [-0.2706,  0.1322, -1.4646,  ..., -1.6346, -0.0038, -0.4883],\n",
       "         [ 0.9561, -0.7502,  0.5321,  ...,  0.0385,  1.0333,  0.2073]]),\n",
       " 'molecular_function': tensor([[-0.7653,  0.9477,  0.6816,  ...,  0.6154, -0.7039,  0.4213],\n",
       "         [ 2.0362, -2.0747,  0.7355,  ...,  0.1049, -0.5091, -1.3882],\n",
       "         [ 0.6046, -0.6922, -0.3534,  ..., -0.2375, -1.6254,  1.3789],\n",
       "         ...,\n",
       "         [-2.4770,  0.1563,  0.4868,  ...,  1.2514, -1.9273, -0.4000],\n",
       "         [ 0.4354,  2.3301,  1.4822,  ...,  1.2430, -0.5810, -1.3638],\n",
       "         [ 0.3479,  0.5816,  1.8544,  ..., -1.1004, -1.8484,  0.0842]]),\n",
       " 'cellular_component': tensor([[-0.7423,  2.4131,  0.3438,  ..., -2.0332,  0.2476, -0.5152],\n",
       "         [-1.8455,  2.0442, -1.1028,  ...,  0.6443, -0.5643,  0.4684],\n",
       "         [-0.2441, -1.8394,  0.7810,  ..., -0.6986, -1.3534, -0.7395],\n",
       "         ...,\n",
       "         [-0.1597,  0.7117, -0.4534,  ...,  0.9880,  0.3324, -0.1681],\n",
       "         [-0.8506,  0.8939,  1.1179,  ..., -0.2771, -2.1101,  0.4917],\n",
       "         [-0.2713,  0.5911, -0.3104,  ..., -2.5200,  0.4515,  0.5199]]),\n",
       " 'pathway': tensor([[ 0.4933, -0.7566, -0.3378,  ..., -0.8702, -1.1308, -0.4572],\n",
       "         [ 0.4128, -0.7694, -0.5958,  ..., -0.8174, -0.2827, -0.2779],\n",
       "         [ 0.3456, -0.4723, -1.7490,  ..., -1.3218, -0.9567, -1.0236],\n",
       "         ...,\n",
       "         [ 1.3713, -0.0855, -1.3107,  ..., -0.1247, -1.0712,  1.0208],\n",
       "         [-0.4002,  0.8228, -1.3604,  ...,  0.7731, -0.6086,  0.8716],\n",
       "         [-0.5067,  2.2287,  0.5498,  ...,  1.3028, -0.6424,  1.5909]])}"
      ]
     },
     "execution_count": 16,
     "metadata": {},
     "output_type": "execute_result"
    }
   ],
   "source": [
    "data.x_dict"
   ]
  },
  {
   "cell_type": "code",
   "execution_count": 17,
   "metadata": {},
   "outputs": [
    {
     "data": {
      "text/plain": [
       "{('gene/protein',\n",
       "  'protein_protein',\n",
       "  'gene/protein'): tensor([[    0,     1,     2,  ...,  3839,  1600, 10974],\n",
       "         [ 8889,  2798,  5646,  ...,   226,  5680, 12723]]),\n",
       " ('effect/phenotype',\n",
       "  'phenotype_protein',\n",
       "  'gene/protein'): tensor([[14012, 14012, 14012,  ..., 14681, 14469, 19686],\n",
       "         [ 7097,  5230,  4315,  ...,  9851, 13297, 51965]]),\n",
       " ('effect/phenotype',\n",
       "  'phenotype_phenotype',\n",
       "  'effect/phenotype'): tensor([[14378, 14682, 14683,  ..., 14594, 14594, 14594],\n",
       "         [14740, 60100, 14684,  ..., 14744, 64415, 14724]]),\n",
       " ('disease',\n",
       "  'disease_phenotype_negative',\n",
       "  'effect/phenotype'): tensor([[19687, 19687, 19687,  ..., 20602, 20602, 20603],\n",
       "         [14051, 15274, 14577,  ..., 14430, 14153, 15137]]),\n",
       " ('disease',\n",
       "  'disease_phenotype_positive',\n",
       "  'effect/phenotype'): tensor([[20604, 19687, 19687,  ..., 27911, 20603, 22582],\n",
       "         [16985, 14066, 14054,  ..., 14528, 60713, 15027]]),\n",
       " ('disease',\n",
       "  'disease_protein',\n",
       "  'gene/protein'): tensor([[22008, 24601, 24602,  ..., 30335, 28573, 28309],\n",
       "         [ 1048,  1048,  1048,  ..., 12873,   429, 13640]]),\n",
       " ('disease',\n",
       "  'disease_disease',\n",
       "  'disease'): tensor([[31537, 31538, 31539,  ..., 31432, 33757, 30243],\n",
       "         [29822, 33661, 33923,  ..., 76024, 76025, 76026]]),\n",
       " ('biological_process',\n",
       "  'bioprocess_bioprocess',\n",
       "  'biological_process'): tensor([[35298, 35299, 35300,  ..., 48914, 48915, 48916],\n",
       "         [43788, 43788, 43788,  ..., 48704, 91048, 91049]]),\n",
       " ('molecular_function',\n",
       "  'molfunc_molfunc',\n",
       "  'molecular_function'): tensor([[ 48917,  48917,  48917,  ...,  50912,  50913,  50914],\n",
       "         [ 91050,  91051,  91052,  ...,  50449, 100219, 100220]]),\n",
       " ('cellular_component',\n",
       "  'cellcomp_cellcomp',\n",
       "  'cellular_component'): tensor([[ 50915,  50915,  50915,  ...,  51875,  51876,  51877],\n",
       "         [100221, 100222, 100223,  ..., 103432,  51128, 103433]]),\n",
       " ('gene/protein',\n",
       "  'protein_molfunc',\n",
       "  'molecular_function'): tensor([[ 1048,   227,  1654,  ..., 56585, 53544, 56586],\n",
       "         [49435, 49435, 49435,  ..., 93537, 50055, 97328]]),\n",
       " ('gene/protein',\n",
       "  'protein_cellcomp',\n",
       "  'cellular_component'): tensor([[  7097,   6561,   5420,  ...,  56012,  53314,  56270],\n",
       "         [102077, 102077, 102077,  ...,  51067, 102257, 102739]]),\n",
       " ('gene/protein',\n",
       "  'protein_bioprocess',\n",
       "  'biological_process'): tensor([[ 7097,  6931,  1114,  ..., 53592, 55042, 53613],\n",
       "         [88486, 88486, 88486,  ..., 37664, 85903, 40210]]),\n",
       " ('pathway',\n",
       "  'pathway_pathway',\n",
       "  'pathway'): tensor([[ 58622,  58622,  58622,  ...,  59363,  59363,  58642],\n",
       "         [ 58624,  58787,  59039,  ...,  58905, 105206, 105207]]),\n",
       " ('gene/protein',\n",
       "  'protein_pathway',\n",
       "  'pathway'): tensor([[  7097,   7097,   6856,  ...,   4984,   4984,   4984],\n",
       "         [104826, 103722, 103623,  ..., 104110,  59109,  59349]]),\n",
       " ('gene/protein',\n",
       "  'protein_protein_rev',\n",
       "  'gene/protein'): tensor([[ 8889,  2798,  5646,  ...,   226,  5680, 12723],\n",
       "         [    0,     1,     2,  ...,  3839,  1600, 10974]]),\n",
       " ('effect/phenotype',\n",
       "  'phenotype_phenotype_rev',\n",
       "  'effect/phenotype'): tensor([[14740, 60100, 14684,  ..., 14744, 64415, 14724],\n",
       "         [14378, 14682, 14683,  ..., 14594, 14594, 14594]]),\n",
       " ('disease',\n",
       "  'disease_disease_rev',\n",
       "  'disease'): tensor([[29822, 33661, 33923,  ..., 76024, 76025, 76026],\n",
       "         [31537, 31538, 31539,  ..., 31432, 33757, 30243]]),\n",
       " ('biological_process',\n",
       "  'bioprocess_bioprocess_rev',\n",
       "  'biological_process'): tensor([[43788, 43788, 43788,  ..., 48704, 91048, 91049],\n",
       "         [35298, 35299, 35300,  ..., 48914, 48915, 48916]]),\n",
       " ('molecular_function',\n",
       "  'molfunc_molfunc_rev',\n",
       "  'molecular_function'): tensor([[ 91050,  91051,  91052,  ...,  50449, 100219, 100220],\n",
       "         [ 48917,  48917,  48917,  ...,  50912,  50913,  50914]]),\n",
       " ('cellular_component',\n",
       "  'cellcomp_cellcomp_rev',\n",
       "  'cellular_component'): tensor([[100221, 100222, 100223,  ..., 103432,  51128, 103433],\n",
       "         [ 50915,  50915,  50915,  ...,  51875,  51876,  51877]]),\n",
       " ('pathway',\n",
       "  'pathway_pathway_rev',\n",
       "  'pathway'): tensor([[ 58624,  58787,  59039,  ...,  58905, 105206, 105207],\n",
       "         [ 58622,  58622,  58622,  ...,  59363,  59363,  58642]]),\n",
       " ('gene/protein',\n",
       "  'phenotype_protein',\n",
       "  'effect/phenotype'): tensor([[ 7097,  5230,  4315,  ...,  9851, 13297, 51965],\n",
       "         [14012, 14012, 14012,  ..., 14681, 14469, 19686]]),\n",
       " ('effect/phenotype',\n",
       "  'disease_phenotype_negative',\n",
       "  'disease'): tensor([[14051, 15274, 14577,  ..., 14430, 14153, 15137],\n",
       "         [19687, 19687, 19687,  ..., 20602, 20602, 20603]]),\n",
       " ('effect/phenotype',\n",
       "  'disease_phenotype_positive',\n",
       "  'disease'): tensor([[16985, 14066, 14054,  ..., 14528, 60713, 15027],\n",
       "         [20604, 19687, 19687,  ..., 27911, 20603, 22582]]),\n",
       " ('gene/protein',\n",
       "  'disease_protein',\n",
       "  'disease'): tensor([[ 1048,  1048,  1048,  ..., 12873,   429, 13640],\n",
       "         [22008, 24601, 24602,  ..., 30335, 28573, 28309]]),\n",
       " ('molecular_function',\n",
       "  'protein_molfunc',\n",
       "  'gene/protein'): tensor([[49435, 49435, 49435,  ..., 93537, 50055, 97328],\n",
       "         [ 1048,   227,  1654,  ..., 56585, 53544, 56586]]),\n",
       " ('cellular_component',\n",
       "  'protein_cellcomp',\n",
       "  'gene/protein'): tensor([[102077, 102077, 102077,  ...,  51067, 102257, 102739],\n",
       "         [  7097,   6561,   5420,  ...,  56012,  53314,  56270]]),\n",
       " ('biological_process',\n",
       "  'protein_bioprocess',\n",
       "  'gene/protein'): tensor([[88486, 88486, 88486,  ..., 37664, 85903, 40210],\n",
       "         [ 7097,  6931,  1114,  ..., 53592, 55042, 53613]]),\n",
       " ('pathway',\n",
       "  'protein_pathway',\n",
       "  'gene/protein'): tensor([[104826, 103722, 103623,  ..., 104110,  59109,  59349],\n",
       "         [  7097,   7097,   6856,  ...,   4984,   4984,   4984]])}"
      ]
     },
     "execution_count": 17,
     "metadata": {},
     "output_type": "execute_result"
    }
   ],
   "source": [
    "data.edge_index_dict"
   ]
  },
  {
   "cell_type": "code",
   "execution_count": 18,
   "metadata": {},
   "outputs": [
    {
     "name": "stdout",
     "output_type": "stream",
     "text": [
      "torch.Size([2, 2190938])\n"
     ]
    }
   ],
   "source": [
    "edge_index_t = torch.cat([data.edge_index_dict[edge_type] for edge_type in data.edge_types], dim=1)\n",
    "print(edge_index_t.shape)"
   ]
  },
  {
   "cell_type": "code",
   "execution_count": 19,
   "metadata": {},
   "outputs": [
    {
     "name": "stdout",
     "output_type": "stream",
     "text": [
      "347\n",
      "tensor([63501, 14162, 16074, 61172, 63139, 63489, 16000, 18088, 15410, 14012,\n",
      "        14451, 69673, 16981])\n"
     ]
    }
   ],
   "source": [
    "active_phenotypes_t = torch.tensor(patient_data['positive_phenotypes']['indices'], dtype=torch.long)\n",
    "print(patient_data['patient_id'])\n",
    "print(active_phenotypes_t)\n"
   ]
  },
  {
   "cell_type": "code",
   "execution_count": 20,
   "metadata": {},
   "outputs": [],
   "source": [
    "def activate_phenotypes(x, active_phenotype_indices, activation_value=1.0):\n",
    "    # Assuming 'effect/phenotype' nodes are at the beginning of x\n",
    "    print(f\"x shape: {x.shape}\")\n",
    "    print(f\"Indices of active phenotypes: {active_phenotype_indices}\")\n",
    "    x_activated = x.clone()\n",
    "    print(f\"X activated shape: {x_activated.shape}\")\n",
    "    x_activated[active_phenotype_indices] += activation_value\n",
    "    print(f\"X activated shape after adding activation value: {x_activated.shape}\")\n",
    "    return x_activated"
   ]
  },
  {
   "cell_type": "code",
   "execution_count": 21,
   "metadata": {},
   "outputs": [
    {
     "name": "stdout",
     "output_type": "stream",
     "text": [
      "x shape: torch.Size([105220, 2048])\n",
      "Indices of active phenotypes: tensor([63501, 14162, 16074, 61172, 63139, 63489, 16000, 18088, 15410, 14012,\n",
      "        14451, 69673, 16981])\n",
      "X activated shape: torch.Size([105220, 2048])\n",
      "X activated shape after adding activation value: torch.Size([105220, 2048])\n"
     ]
    }
   ],
   "source": [
    "x_activated_t = activate_phenotypes(x_t, active_phenotypes_t)"
   ]
  },
  {
   "cell_type": "code",
   "execution_count": 22,
   "metadata": {},
   "outputs": [
    {
     "name": "stdout",
     "output_type": "stream",
     "text": [
      "torch.Size([105220, 2048])\n"
     ]
    }
   ],
   "source": [
    "print(x_activated_t.shape)"
   ]
  },
  {
   "cell_type": "code",
   "execution_count": 23,
   "metadata": {},
   "outputs": [],
   "source": [
    "# do a function to check which indices are different from x_active_t and x_t\n",
    "def check_activated_phenotypes(x, x_activated):\n",
    "    print(f\"x shape: {x.shape}\")\n",
    "    print(f\"x_activated shape: {x_activated.shape}\")\n",
    "    diff_indices = torch.nonzero(x_activated - x)\n",
    "    return diff_indices"
   ]
  },
  {
   "cell_type": "code",
   "execution_count": 24,
   "metadata": {},
   "outputs": [
    {
     "name": "stdout",
     "output_type": "stream",
     "text": [
      "x shape: torch.Size([105220, 2048])\n",
      "x_activated shape: torch.Size([105220, 2048])\n"
     ]
    },
    {
     "data": {
      "text/plain": [
       "tensor([[14012,     0],\n",
       "        [14012,     1],\n",
       "        [14012,     2],\n",
       "        ...,\n",
       "        [69673,  2045],\n",
       "        [69673,  2046],\n",
       "        [69673,  2047]])"
      ]
     },
     "execution_count": 24,
     "metadata": {},
     "output_type": "execute_result"
    }
   ],
   "source": [
    "check_activated_phenotypes(x_t, x_activated_t)"
   ]
  },
  {
   "cell_type": "code",
   "execution_count": null,
   "metadata": {},
   "outputs": [],
   "source": [
    "import pandas as pd\n",
    "import torch\n",
    "import torch.nn as nn\n",
    "from torch_geometric.nn import GATConv, Linear \n",
    "from torch_geometric.data import HeteroData\n",
    "import json \n",
    "import random\n",
    "from sklearn.model_selection import train_test_split\n",
    "import os\n",
    "\n",
    "device = torch.device('cuda' if torch.cuda.is_available() else 'cpu')\n",
    "print(device)\n",
    "\n",
    "data = torch.load('./KGs/Shepherd_KG_with_pretrained_embeddings3.pt')\n",
    "print(\"Graph loaded from 'Shepherd_KG_with_pretrained_embeddings3.pt'.\")\n",
    "print(data)\n",
    "\n",
    "def activate_phenotypes(x, active_phenotype_indices, activation_value=1.0):\n",
    "    x_activated = x.clone()\n",
    "    x_activated[active_phenotype_indices] += activation_value\n",
    "    return x_activated\n",
    "\n",
    "def retrieve_subgraph(node_scores, num_nodes=2500):\n",
    "    # Select top k nodes based on their scores\n",
    "    _, top_indices = torch.topk(node_scores.squeeze(), num_nodes)\n",
    "    return top_indices\n",
    "\n",
    "def process_patient(model, graph, patient_data):\n",
    "    # Combine all node features and edge indices\n",
    "    x = torch.cat([graph.x_dict[node_type] for node_type in graph.node_types], dim=0)\n",
    "    edge_index = torch.cat([graph.edge_index_dict[edge_type] for edge_type in graph.edge_types], dim=1)\n",
    "    \n",
    "    # Activate patient-specific phenotypes\n",
    "    active_phenotypes = torch.tensor(patient_data['positive_phenotypes']['indices'], dtype=torch.long)\n",
    "    x_activated = activate_phenotypes(x, active_phenotypes)\n",
    "    \n",
    "    # Get node scores from the model\n",
    "    node_scores = model(x_activated, edge_index)\n",
    "    \n",
    "    # Retrieve subgraph\n",
    "    subgraph_nodes = retrieve_subgraph(node_scores)\n",
    "    \n",
    "    return subgraph_nodes, node_scores\n",
    "\n",
    "\n",
    "class GuidedGNN(torch.nn.Module):\n",
    "    def __init__(self, in_channels, hidden_channels, out_channels, num_heads, num_layers):\n",
    "        super().__init__()\n",
    "\n",
    "        self.phenotype_embedding = nn.Embedding(in_channels, hidden_channels)\n",
    "        \n",
    "        \n",
    "        self.conv1 = GATConv(in_channels, hidden_channels, heads=num_heads, dropout=0.2)\n",
    "        self.head_transform_1 = Linear(hidden_channels * num_heads, hidden_channels)\n",
    "\n",
    "        self.conv2 = GATConv(hidden_channels, hidden_channels, heads=num_heads, dropout=0.2)\n",
    "        self.head_transform_2 = Linear(hidden_channels * num_heads, hidden_channels)\n",
    "\n",
    "        self.conv3 = GATConv(hidden_channels, hidden_channels, heads=num_heads, dropout=0.2)\n",
    "        self.head_transform_3 = Linear(hidden_channels * num_heads, hidden_channels)\n",
    "\n",
    "        self.linear1 = Linear(hidden_channels, out_channels)\n",
    "    \n",
    "    def forward(self, x, edge_index, active_phenotypes):\n",
    "        phenotype_emb = self.phenotype_embedding(active_phenotypes)\n",
    "        x = x + phenotype_emb\n",
    "\n",
    "        x = self.conv1(x, edge_index)\n",
    "        x = self.head_transform_1(F.elu(x))\n",
    "\n",
    "        x = self.conv2(x, edge_index)\n",
    "        x = self.head_transform_2(F.elu(x))\n",
    "\n",
    "        x = self.conv3(x, edge_index)\n",
    "        x = self.head_transform_3(F.elu(x))\n",
    "\n",
    "        return self.linear1(x) \n",
    "\n",
    "# Training loop\n",
    "model = GuidedGNN(in_channels=2048, hidden_channels=2048,  heads=3, num_layers=3)\n",
    "optimizer = torch.optim.Adam(model.parameters(), lr=0.001)\n",
    "\n",
    "for epoch in range(10):\n",
    "    for patient_file in train_files:\n",
    "        patient_data = load_patient_data(patient_file)\n",
    "        optimizer.zero_grad()\n",
    "        \n",
    "        subgraph_nodes, node_scores = process_patient(model, graph, patient_data)\n",
    "        \n",
    "        # Check if true gene is in the retrieved subgraph\n",
    "        true_gene_idx = patient_data['true_gene']['index']\n",
    "        true_gene_in_subgraph = true_gene_idx in subgraph_nodes\n",
    "        \n",
    "        # Compute loss\n",
    "        if true_gene_in_subgraph:\n",
    "            # Encourage high score for true gene\n",
    "            loss = F.binary_cross_entropy_with_logits(node_scores[true_gene_idx], torch.tensor([1.0]))\n",
    "        else:\n",
    "            # Penalize model for not including true gene\n",
    "            loss = F.binary_cross_entropy_with_logits(node_scores[true_gene_idx], torch.tensor([1.0])) + \\\n",
    "                   F.binary_cross_entropy_with_logits(node_scores[subgraph_nodes].max(), torch.tensor([0.0]))\n",
    "        \n",
    "        loss.backward()\n",
    "        optimizer.step()\n",
    "        \n",
    "        print(f\"Epoch {epoch}, Patient {patient_data['patient_id']}\")\n",
    "        print(f\"True gene in subgraph: {true_gene_in_subgraph}\")\n",
    "        print(f\"Loss: {loss.item()}\")\n",
    "        print(\"---\")"
   ]
  }
 ],
 "metadata": {
  "kernelspec": {
   "display_name": "Python 3",
   "language": "python",
   "name": "python3"
  },
  "language_info": {
   "codemirror_mode": {
    "name": "ipython",
    "version": 3
   },
   "file_extension": ".py",
   "mimetype": "text/x-python",
   "name": "python",
   "nbconvert_exporter": "python",
   "pygments_lexer": "ipython3",
   "version": "3.9.19"
  }
 },
 "nbformat": 4,
 "nbformat_minor": 2
}
