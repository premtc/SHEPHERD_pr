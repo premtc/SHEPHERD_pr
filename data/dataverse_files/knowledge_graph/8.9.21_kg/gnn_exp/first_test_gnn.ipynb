{
 "cells": [
  {
   "cell_type": "code",
   "execution_count": 1,
   "metadata": {},
   "outputs": [],
   "source": [
    "import pandas as pd"
   ]
  },
  {
   "cell_type": "code",
   "execution_count": 5,
   "metadata": {},
   "outputs": [],
   "source": [
    "nodes_df = pd.read_csv('../KG_node_map_test.csv')\n",
    "edges_df = pd.read_csv('../KG_edgelist_mask_test.csv')"
   ]
  },
  {
   "cell_type": "code",
   "execution_count": 8,
   "metadata": {},
   "outputs": [
    {
     "name": "stdout",
     "output_type": "stream",
     "text": [
      "All nodes are present in the edge list\n"
     ]
    }
   ],
   "source": [
    "node_indices = set(nodes_df['node_idx'])\n",
    "edge_node_indices = set(edges_df['x_idx']).union(set(edges_df['y_idx']))\n",
    "\n",
    "missing_nodes = node_indices - edge_node_indices\n",
    "if missing_nodes:\n",
    "    print(f\"Warning - {len(missing_nodes)} nodes are missing from the edge list\")\n",
    "else:\n",
    "    print(\"All nodes are present in the edge list\")"
   ]
  },
  {
   "cell_type": "code",
   "execution_count": 11,
   "metadata": {},
   "outputs": [],
   "source": [
    "import torch\n",
    "from torch_geometric.data import HeteroData\n",
    "from torch_geometric.utils import to_undirected"
   ]
  },
  {
   "cell_type": "code",
   "execution_count": 12,
   "metadata": {},
   "outputs": [],
   "source": [
    "data = HeteroData()"
   ]
  },
  {
   "cell_type": "code",
   "execution_count": 14,
   "metadata": {},
   "outputs": [
    {
     "name": "stdout",
     "output_type": "stream",
     "text": [
      "Node types: ['gene/protein' 'effect/phenotype' 'disease' 'biological_process'\n",
      " 'molecular_function' 'cellular_component' 'pathway']\n"
     ]
    }
   ],
   "source": [
    "node_types = nodes_df['node_type'].unique()\n",
    "print(f\"Node types: {node_types}\")"
   ]
  },
  {
   "cell_type": "code",
   "execution_count": 16,
   "metadata": {},
   "outputs": [
    {
     "name": "stdout",
     "output_type": "stream",
     "text": [
      "Node type to index: {'gene/protein': 0, 'effect/phenotype': 1, 'disease': 2, 'biological_process': 3, 'molecular_function': 4, 'cellular_component': 5, 'pathway': 6}\n"
     ]
    }
   ],
   "source": [
    "node_type_to_idx = {ntype: idx for idx, ntype in enumerate(node_types)}\n",
    "print(f\"Node type to index: {node_type_to_idx}\")"
   ]
  },
  {
   "cell_type": "code",
   "execution_count": 17,
   "metadata": {},
   "outputs": [],
   "source": [
    "import numpy as np"
   ]
  },
  {
   "cell_type": "code",
   "execution_count": 18,
   "metadata": {},
   "outputs": [],
   "source": [
    "node_feature = {}\n",
    "\n",
    "for idx, row in nodes_df.iterrows():\n",
    "    node_idx = row['node_idx']\n",
    "    node_type = row['node_type']\n",
    "    type_idx  = node_type_to_idx[node_type]\n",
    "\n",
    "    # One-hot encoding of node type\n",
    "    type_one_hot = np.zeros(len(node_types))\n",
    "    type_one_hot[type_idx] = 1\n",
    "    node_feature[node_idx] = type_one_hot  "
   ]
  },
  {
   "cell_type": "code",
   "execution_count": 21,
   "metadata": {},
   "outputs": [
    {
     "name": "stdout",
     "output_type": "stream",
     "text": [
      "Node feature for node 0: [1. 0. 0. 0. 0. 0. 0.]\n"
     ]
    }
   ],
   "source": [
    "print(f\"Node feature for node 0: {node_feature[0]}\")"
   ]
  },
  {
   "cell_type": "code",
   "execution_count": 30,
   "metadata": {},
   "outputs": [
    {
     "name": "stdout",
     "output_type": "stream",
     "text": [
      "Node feature for node 105000: [1. 0. 0. 0. 0. 0. 0.]\n"
     ]
    }
   ],
   "source": [
    "print(f\"Node feature for node 105000: {node_feature[105209]}\")"
   ]
  },
  {
   "cell_type": "code",
   "execution_count": 31,
   "metadata": {},
   "outputs": [],
   "source": [
    "for node_type in node_types:\n",
    "    # get node indices of this type\n",
    "    indices = nodes_df[nodes_df['node_type'] == node_type]['node_idx'].values\n",
    "    # get the features for these nodes\n",
    "    features = np.array([node_feature[idx] for idx in indices])\n",
    "\n",
    "    # add to HeteroData\n",
    "    data[node_type].x = torch.tensor(features, dtype=torch.float)\n",
    "\n",
    "    # map nodes indices to local indices for Pytorch Geometric\n",
    "    mapping = {idx: i for i, idx in enumerate(indices)}\n",
    "\n",
    "    # Store the mapping for edge indexing later\n",
    "    nodes_df.loc[nodes_df['node_type'] == node_type, 'local_idx'] = range(len(indices))\n",
    "    nodes_df.loc[nodes_df['node_type'] == node_type, 'local_mapping'] = [mapping[idx] for idx in indices]"
   ]
  },
  {
   "cell_type": "code",
   "execution_count": 34,
   "metadata": {},
   "outputs": [
    {
     "name": "stdout",
     "output_type": "stream",
     "text": [
      "Node feature for node 0: tensor([1., 0., 0., 0., 0., 0., 0.])\n"
     ]
    }
   ],
   "source": [
    "print(f\"Node feature for node 0: {data['gene/protein'].x[0]}\")"
   ]
  },
  {
   "cell_type": "code",
   "execution_count": 36,
   "metadata": {},
   "outputs": [
    {
     "name": "stdout",
     "output_type": "stream",
     "text": [
      "{'gene/protein;protein_protein;gene/protein': 0, 'effect/phenotype;phenotype_protein;gene/protein': 1, 'effect/phenotype;phenotype_phenotype;effect/phenotype': 2, 'disease;disease_phenotype_negative;effect/phenotype': 3, 'disease;disease_phenotype_positive;effect/phenotype': 4, 'disease;disease_protein;gene/protein': 5, 'disease;disease_disease;disease': 6, 'biological_process;bioprocess_bioprocess;biological_process': 7, 'molecular_function;molfunc_molfunc;molecular_function': 8, 'cellular_component;cellcomp_cellcomp;cellular_component': 9, 'gene/protein;protein_molfunc;molecular_function': 10, 'gene/protein;protein_cellcomp;cellular_component': 11, 'gene/protein;protein_bioprocess;biological_process': 12, 'pathway;pathway_pathway;pathway': 13, 'gene/protein;protein_pathway;pathway': 14, 'gene/protein;protein_protein_rev;gene/protein': 15, 'effect/phenotype;phenotype_phenotype_rev;effect/phenotype': 16, 'disease;disease_disease_rev;disease': 17, 'biological_process;bioprocess_bioprocess_rev;biological_process': 18, 'molecular_function;molfunc_molfunc_rev;molecular_function': 19, 'cellular_component;cellcomp_cellcomp_rev;cellular_component': 20, 'pathway;pathway_pathway_rev;pathway': 21, 'gene/protein;phenotype_protein;effect/phenotype': 22, 'effect/phenotype;disease_phenotype_negative;disease': 23, 'effect/phenotype;disease_phenotype_positive;disease': 24, 'gene/protein;disease_protein;disease': 25, 'molecular_function;protein_molfunc;gene/protein': 26, 'cellular_component;protein_cellcomp;gene/protein': 27, 'biological_process;protein_bioprocess;gene/protein': 28, 'pathway;protein_pathway;gene/protein': 29}\n"
     ]
    }
   ],
   "source": [
    "edge_relations = edges_df['full_relation'].unique()\n",
    "relation_to_edge_type = {rel: idx for idx, rel in enumerate(edge_relations)}\n",
    "print(relation_to_edge_type)"
   ]
  },
  {
   "cell_type": "code",
   "execution_count": 37,
   "metadata": {},
   "outputs": [
    {
     "name": "stderr",
     "output_type": "stream",
     "text": [
      "/tmp/ipykernel_3326027/3715898240.py:17: UserWarning: Creating a tensor from a list of numpy.ndarrays is extremely slow. Please consider converting the list to a single numpy.ndarray with numpy.array() before converting to a tensor. (Triggered internally at /opt/conda/conda-bld/pytorch_1682343997789/work/torch/csrc/utils/tensor_new.cpp:245.)\n",
      "  edge_index = torch.tensor([src_local_idx, dst_local_idx], dtype=torch.long)\n"
     ]
    }
   ],
   "source": [
    "for relation in edge_relations:\n",
    "    # Get edges of this relation\n",
    "    rel_edges = edges_df[edges_df['full_relation'] == relation]\n",
    "    # Extract node types from the relation string\n",
    "    src_type, _, dst_type = relation.split(';')\n",
    "    # Get local indices for source and target nodes\n",
    "    src_mapping = nodes_df[nodes_df['node_type'] == src_type].set_index('node_idx')['local_mapping']\n",
    "    dst_mapping = nodes_df[nodes_df['node_type'] == dst_type].set_index('node_idx')['local_mapping']\n",
    "    # Map global node indices to local indices\n",
    "    src_local_idx = rel_edges['x_idx'].map(src_mapping).values\n",
    "    dst_local_idx = rel_edges['y_idx'].map(dst_mapping).values\n",
    "    # Remove edges with missing nodes (if any)\n",
    "    valid_edges = (~np.isnan(src_local_idx)) & (~np.isnan(dst_local_idx))\n",
    "    src_local_idx = src_local_idx[valid_edges].astype(int)\n",
    "    dst_local_idx = dst_local_idx[valid_edges].astype(int)\n",
    "    # Create edge index tensor\n",
    "    edge_index = torch.tensor([src_local_idx, dst_local_idx], dtype=torch.long)\n",
    "    # Add to HeteroData\n",
    "    data[(src_type, relation, dst_type)].edge_index = edge_index"
   ]
  },
  {
   "cell_type": "code",
   "execution_count": 38,
   "metadata": {},
   "outputs": [],
   "source": [
    "from torch_geometric.loader import NeighborLoader"
   ]
  },
  {
   "cell_type": "code",
   "execution_count": 39,
   "metadata": {},
   "outputs": [],
   "source": [
    "# Define batch size and number of neighbors to sample\n",
    "batch_size = 1024\n",
    "num_neighbors = [10, 10]  # Number of neighbors to sample at each layer"
   ]
  },
  {
   "cell_type": "code",
   "execution_count": 41,
   "metadata": {},
   "outputs": [
    {
     "name": "stdout",
     "output_type": "stream",
     "text": [
      "Number of gene/protein nodes: 21610\n",
      "Number of effect/phenotype nodes: 15874\n",
      "Number of disease nodes: 21233\n",
      "Number of biological_process nodes: 28642\n",
      "Number of molecular_function nodes: 11169\n",
      "Number of cellular_component nodes: 4176\n",
      "Number of pathway nodes: 2516\n"
     ]
    }
   ],
   "source": [
    "# Create a dictionary mapping node type to the indices of nodes\n",
    "node_indices = {}\n",
    "for node_type in node_types:\n",
    "    node_indices[node_type] = torch.arange(data[node_type].num_nodes)\n",
    "    print(f\"Number of {node_type} nodes: {data[node_type].num_nodes}\")"
   ]
  },
  {
   "cell_type": "code",
   "execution_count": 71,
   "metadata": {},
   "outputs": [
    {
     "name": "stderr",
     "output_type": "stream",
     "text": [
      "/home/guests/premt_cara/miniconda3/envs/n_myenv/lib/python3.9/site-packages/torch_geometric/sampler/neighbor_sampler.py:61: UserWarning: Using 'NeighborSampler' without a 'pyg-lib' installation is deprecated and will be removed soon. Please install 'pyg-lib' for accelerated neighborhood sampling\n",
      "  warnings.warn(f\"Using '{self.__class__.__name__}' without a \"\n",
      "/home/guests/premt_cara/miniconda3/envs/n_myenv/lib/python3.9/site-packages/torch_geometric/data/storage.py:450: UserWarning: Unable to accurately infer 'num_nodes' from the attribute set 'set()'. Please explicitly set 'num_nodes' as an attribute of 'data[gene]' to suppress this warning\n",
      "  warnings.warn(\n"
     ]
    }
   ],
   "source": [
    "# Create NeighborLoader for each node type\n",
    "train_loader = NeighborLoader(\n",
    "    data,\n",
    "    input_nodes=('gene/protein', node_indices['gene/protein']),\n",
    "    num_neighbors=num_neighbors,\n",
    "    batch_size=batch_size,\n",
    "    shuffle=True\n",
    ")\n",
    "\n",
    "# Create NeighborLoader for each node type\n",
    "train_loader = NeighborLoader(\n",
    "    data,\n",
    "    input_nodes=('effect/phenotype', node_indices['effect/phenotype']),\n",
    "    num_neighbors=num_neighbors,\n",
    "    batch_size=batch_size,\n",
    "    shuffle=True\n",
    ")\n",
    "\n",
    "train_loader = NeighborLoader(\n",
    "    data,\n",
    "    input_nodes=('disease', node_indices['disease']),\n",
    "    num_neighbors=num_neighbors,\n",
    "    batch_size=batch_size,\n",
    "    shuffle=True\n",
    ")\n",
    "\n",
    "train_loader = NeighborLoader(\n",
    "    data,\n",
    "    input_nodes=('biological_process', node_indices['biological_process']),\n",
    "    num_neighbors=num_neighbors,\n",
    "    batch_size=batch_size,\n",
    "    shuffle=True\n",
    ")\n",
    "\n",
    "train_loader = NeighborLoader(\n",
    "    data,\n",
    "    input_nodes=('molecular_function', node_indices['molecular_function']),\n",
    "    num_neighbors=num_neighbors,\n",
    "    batch_size=batch_size,\n",
    "    shuffle=True\n",
    ")\n",
    "\n",
    "train_loader = NeighborLoader(\n",
    "    data,\n",
    "    input_nodes=('pathway', node_indices['pathway']),\n",
    "    num_neighbors=num_neighbors,\n",
    "    batch_size=batch_size,\n",
    "    shuffle=True\n",
    ")"
   ]
  },
  {
   "cell_type": "code",
   "execution_count": 51,
   "metadata": {},
   "outputs": [],
   "source": [
    "# Create NeighborLoader for each node type\n",
    "train_loader_gene_protein = NeighborLoader(\n",
    "    data,\n",
    "    input_nodes=('gene/protein', node_indices['gene/protein']),\n",
    "    num_neighbors=num_neighbors,\n",
    "    batch_size=batch_size,\n",
    "    shuffle=True\n",
    ")"
   ]
  },
  {
   "cell_type": "code",
   "execution_count": 52,
   "metadata": {},
   "outputs": [],
   "source": [
    "# Create NeighborLoader for each node type\n",
    "train_loader_effect_phenotype = NeighborLoader(\n",
    "    data,\n",
    "    input_nodes=('effect/phenotype', node_indices['effect/phenotype']),\n",
    "    num_neighbors=num_neighbors,\n",
    "    batch_size=batch_size,\n",
    "    shuffle=True\n",
    ")"
   ]
  },
  {
   "cell_type": "code",
   "execution_count": 54,
   "metadata": {},
   "outputs": [],
   "source": [
    "train_loader_disease = NeighborLoader(\n",
    "    data,\n",
    "    input_nodes=('disease', node_indices['disease']),\n",
    "    num_neighbors=num_neighbors,\n",
    "    batch_size=batch_size,\n",
    "    shuffle=True\n",
    ")"
   ]
  },
  {
   "cell_type": "code",
   "execution_count": 56,
   "metadata": {},
   "outputs": [],
   "source": [
    "train_loader_biological_process = NeighborLoader(\n",
    "    data,\n",
    "    input_nodes=('biological_process', node_indices['biological_process']),\n",
    "    num_neighbors=num_neighbors,\n",
    "    batch_size=batch_size,\n",
    "    shuffle=True\n",
    ")"
   ]
  },
  {
   "cell_type": "code",
   "execution_count": 58,
   "metadata": {},
   "outputs": [],
   "source": [
    "train_loader_molecular_function = NeighborLoader(\n",
    "    data,\n",
    "    input_nodes=('molecular_function', node_indices['molecular_function']),\n",
    "    num_neighbors=num_neighbors,\n",
    "    batch_size=batch_size,\n",
    "    shuffle=True\n",
    ")"
   ]
  },
  {
   "cell_type": "code",
   "execution_count": 60,
   "metadata": {},
   "outputs": [],
   "source": [
    "train_loader_cellular_component = NeighborLoader(\n",
    "    data,\n",
    "    input_nodes=('cellular_component', node_indices['cellular_component']),\n",
    "    num_neighbors=num_neighbors,\n",
    "    batch_size=batch_size,\n",
    "    shuffle=True\n",
    ")"
   ]
  },
  {
   "cell_type": "code",
   "execution_count": 62,
   "metadata": {},
   "outputs": [],
   "source": [
    "train_loader_pathway = NeighborLoader(\n",
    "    data,\n",
    "    input_nodes=('pathway', node_indices['pathway']),\n",
    "    num_neighbors=num_neighbors,\n",
    "    batch_size=batch_size,\n",
    "    shuffle=True\n",
    ")"
   ]
  },
  {
   "cell_type": "code",
   "execution_count": 65,
   "metadata": {},
   "outputs": [],
   "source": [
    "import torch.nn as nn\n",
    "from torch_geometric.nn import HeteroConv, GATConv\n",
    "\n",
    "class HeteroGAT(nn.Module):\n",
    "    def __init__(self, hidden_channels, out_channels, num_layers):\n",
    "        super().__init__()\n",
    "        self.convs = nn.ModuleList()\n",
    "        for _ in range(num_layers):\n",
    "            conv = HeteroConv({\n",
    "                ('gene/protein', 'protein_protein', 'gene/protein'): GATConv((-1, -1), hidden_channels, add_self_loops=False),\n",
    "                ('effect/phenotype', 'phenotype_protein', 'gene/protein'): GATConv((-1, -1), hidden_channels, add_self_loops=False),\n",
    "                ('effect/phenotype', 'phenotype_phenotype', 'effect/phenotype'): GATConv((-1, -1), hidden_channels, add_self_loops=False),\n",
    "                ('disease', 'disease_phenotype_negative', 'effect/phenotype'): GATConv((-1, -1), hidden_channels, add_self_loops=False),\n",
    "                ('disease', 'disease_phenotype_positive', 'effect/phenotype'): GATConv((-1, -1), hidden_channels, add_self_loops=False),\n",
    "                ('disease', 'disease_protein', 'gene/protein'): GATConv((-1, -1), hidden_channels, add_self_loops=False),\n",
    "                ('disease', 'disease_disease', 'disease'): GATConv((-1, -1), hidden_channels, add_self_loops=False),\n",
    "                ('biological_process', 'bioprocess_bioprocess', 'biological_process'): GATConv((-1, -1), hidden_channels, add_self_loops=False),\n",
    "                ('molecular_function', 'molfunc_molfunc', 'molecular_function'): GATConv((-1, -1), hidden_channels, add_self_loops=False),\n",
    "                ('cellular_component', 'cellcomp_cellcomp', 'cellular_component'): GATConv((-1, -1), hidden_channels, add_self_loops=False),\n",
    "                ('gene/protein', 'protein_molfunc', 'molecular_function'): GATConv((-1, -1), hidden_channels, add_self_loops=False),\n",
    "                ('gene/protein', 'protein_cellcomp', 'cellular_component'): GATConv((-1, -1), hidden_channels, add_self_loops=False),\n",
    "                ('gene/protein', 'protein_bioprocess', 'biological_process'): GATConv((-1, -1), hidden_channels, add_self_loops=False),\n",
    "                ('pathway', 'pathway_pathway', 'pathway'): GATConv((-1, -1), hidden_channels, add_self_loops=False),\n",
    "                ('gene/protein', 'protein_pathway', 'pathway'): GATConv((-1, -1), hidden_channels, add_self_loops=False),\n",
    "                ('gene/protein', 'protein_protein_rev', 'gene/protein'): GATConv((-1, -1), hidden_channels, add_self_loops=False),\n",
    "                ('effect/phenotype', 'phenotype_phenotype_rev', 'effect/phenotype'): GATConv((-1, -1), hidden_channels, add_self_loops=False),\n",
    "                ('disease', 'disease_disease_rev', 'disease'): GATConv((-1, -1), hidden_channels, add_self_loops=False),\n",
    "                ('biological_process', 'bioprocess_bioprocess_rev', 'biological_process'): GATConv((-1, -1), hidden_channels, add_self_loops=False),\n",
    "                ('molecular_function', 'molfunc_molfunc_rev', 'molecular_function'): GATConv((-1, -1), hidden_channels, add_self_loops=False),\n",
    "                ('cellular_component', 'cellcomp_cellcomp_rev', 'cellular_component'): GATConv((-1, -1), hidden_channels, add_self_loops=False),\n",
    "                ('pathway', 'pathway_pathway_rev', 'pathway'): GATConv((-1, -1), hidden_channels, add_self_loops=False),\n",
    "                ('gene/protein', 'phenotype_protein', 'effect/phenotype'): GATConv((-1, -1), hidden_channels, add_self_loops=False),\n",
    "                ('effect/phenotype', 'disease_phenotype_negative', 'disease'): GATConv((-1, -1), hidden_channels, add_self_loops=False),\n",
    "                ('effect/phenotype', 'disease_phenotype_positive', 'disease'): GATConv((-1, -1), hidden_channels, add_self_loops=False),\n",
    "                ('gene/protein', 'disease_protein', 'disease'): GATConv((-1, -1), hidden_channels, add_self_loops=False),\n",
    "                ('molecular_function', 'protein_molfunc', 'gene/protein'): GATConv((-1, -1), hidden_channels, add_self_loops=False),\n",
    "                ('cellular_component', 'protein_cellcomp', 'gene/protein'): GATConv((-1, -1), hidden_channels, add_self_loops=False),\n",
    "                ('biological_process', 'protein_bioprocess', 'gene/protein'): GATConv((-1, -1), hidden_channels, add_self_loops=False),\n",
    "                ('pathway', 'protein_pathway', 'gene/protein'): GATConv((-1, -1), hidden_channels, add_self_loops=False),\n",
    "            }, aggr='sum')\n",
    "            self.convs.append(conv)\n",
    "\n",
    "        self.lin = nn.Linear(hidden_channels, out_channels)\n",
    "\n",
    "    def forward(self, x_dict, edge_index_dict):\n",
    "        for conv in self.convs:\n",
    "            x_dict = conv(x_dict, edge_index_dict)\n",
    "            x_dict = {key: x.relu() for key, x in x_dict.items()}\n",
    "        return x_dict"
   ]
  },
  {
   "cell_type": "code",
   "execution_count": 66,
   "metadata": {},
   "outputs": [],
   "source": [
    "model = HeteroGAT(hidden_channels=64, out_channels=1, num_layers=2)"
   ]
  },
  {
   "cell_type": "code",
   "execution_count": 67,
   "metadata": {},
   "outputs": [],
   "source": [
    "import torch.optim as optim\n",
    "\n",
    "loss_fn = nn.BCEWithLogitsLoss()\n",
    "optimizer = optim.Adam(model.parameters(), lr=0.005)"
   ]
  },
  {
   "cell_type": "code",
   "execution_count": 69,
   "metadata": {},
   "outputs": [],
   "source": [
    "num_epochs = 10"
   ]
  },
  {
   "cell_type": "code",
   "execution_count": 72,
   "metadata": {},
   "outputs": [
    {
     "ename": "NameError",
     "evalue": "name 'device' is not defined",
     "output_type": "error",
     "traceback": [
      "\u001b[0;31m---------------------------------------------------------------------------\u001b[0m",
      "\u001b[0;31mNameError\u001b[0m                                 Traceback (most recent call last)",
      "Cell \u001b[0;32mIn[72], line 7\u001b[0m\n\u001b[1;32m      5\u001b[0m optimizer\u001b[38;5;241m.\u001b[39mzero_grad()\n\u001b[1;32m      6\u001b[0m \u001b[38;5;66;03m# Move batch to device (GPU if available)\u001b[39;00m\n\u001b[0;32m----> 7\u001b[0m batch \u001b[38;5;241m=\u001b[39m batch\u001b[38;5;241m.\u001b[39mto(\u001b[43mdevice\u001b[49m)\n\u001b[1;32m      8\u001b[0m \u001b[38;5;66;03m# Get model predictions\u001b[39;00m\n\u001b[1;32m      9\u001b[0m out \u001b[38;5;241m=\u001b[39m model(batch\u001b[38;5;241m.\u001b[39mx_dict, batch\u001b[38;5;241m.\u001b[39medge_index_dict)\n",
      "\u001b[0;31mNameError\u001b[0m: name 'device' is not defined"
     ]
    }
   ],
   "source": [
    "for epoch in range(num_epochs):\n",
    "    model.train()\n",
    "    total_loss = 0\n",
    "    for batch in train_loader:\n",
    "        optimizer.zero_grad()\n",
    "        # Move batch to device (GPU if available)\n",
    "        batch = batch.to(device)\n",
    "        # Get model predictions\n",
    "        out = model(batch.x_dict, batch.edge_index_dict)\n",
    "        # Extract predictions for gene nodes\n",
    "        gene_preds = out['gene/protein'].squeeze()\n",
    "        # Get labels for gene nodes\n",
    "        gene_labels = batch['gene/protein'].y.float()\n",
    "        # Compute loss\n",
    "        loss = loss_fn(gene_preds, gene_labels)\n",
    "        loss.backward()\n",
    "        optimizer.step()\n",
    "        total_loss += loss.item()\n",
    "    print(f\"Epoch {epoch}, Loss: {total_loss / len(train_loader)}\")"
   ]
  },
  {
   "cell_type": "code",
   "execution_count": null,
   "metadata": {},
   "outputs": [],
   "source": []
  }
 ],
 "metadata": {
  "kernelspec": {
   "display_name": "Python 3",
   "language": "python",
   "name": "python3"
  },
  "language_info": {
   "codemirror_mode": {
    "name": "ipython",
    "version": 3
   },
   "file_extension": ".py",
   "mimetype": "text/x-python",
   "name": "python",
   "nbconvert_exporter": "python",
   "pygments_lexer": "ipython3",
   "version": "3.9.19"
  }
 },
 "nbformat": 4,
 "nbformat_minor": 2
}
